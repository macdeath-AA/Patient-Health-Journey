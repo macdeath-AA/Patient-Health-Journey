{
 "cells": [
  {
   "cell_type": "code",
   "execution_count": 1,
   "id": "cb30754f",
   "metadata": {},
   "outputs": [],
   "source": [
    "import pandas as pd\n",
    "import numpy as np\n",
    "import matplotlib.pyplot as plt\n",
    "import seaborn as sns"
   ]
  },
  {
   "cell_type": "code",
   "execution_count": 2,
   "id": "a72f2b0b",
   "metadata": {},
   "outputs": [],
   "source": [
    "df = pd.read_csv('../data/patients.csv')"
   ]
  },
  {
   "cell_type": "code",
   "execution_count": null,
   "id": "fba8d11d",
   "metadata": {},
   "outputs": [],
   "source": [
    "#Understanding the data\n",
    "df.shape\n",
    "df.columns\n",
    "df = df.drop(columns=['SSN', 'DRIVERS', 'PASSPORT', 'PREFIX',\n",
    "       'FIRST', 'LAST', 'SUFFIX', 'MAIDEN'])\n",
    "df.dtypes"
   ]
  },
  {
   "cell_type": "code",
   "execution_count": 4,
   "id": "ac5d1149",
   "metadata": {},
   "outputs": [],
   "source": [
    "df['BIRTHDATE'] = pd.to_datetime(df['BIRTHDATE'])\n",
    "df['DEATHDATE'] =pd.to_datetime(df['DEATHDATE'])"
   ]
  },
  {
   "cell_type": "code",
   "execution_count": 6,
   "id": "1bfea138",
   "metadata": {},
   "outputs": [
    {
     "data": {
      "text/plain": [
       "(1163, 17)"
      ]
     },
     "execution_count": 6,
     "metadata": {},
     "output_type": "execute_result"
    }
   ],
   "source": [
    "df.isna().sum()\n",
    "df.shape"
   ]
  },
  {
   "cell_type": "code",
   "execution_count": null,
   "id": "0c4b1d12",
   "metadata": {},
   "outputs": [],
   "source": [
    "#Exploratory Data Analysis\n",
    "df['RACE'].value_counts()\n",
    "df['GENDER'].value_counts()\n",
    "df['ETHNICITY'].value_counts()\n",
    "df['CITY'].value_counts()"
   ]
  },
  {
   "cell_type": "code",
   "execution_count": null,
   "id": "be4f60ed",
   "metadata": {},
   "outputs": [],
   "source": [
    "#demographic info\n",
    "plt.figure()\n",
    "ax = df['RACE'].value_counts().plot(kind = 'bar', title = 'Patients by Race')\n",
    "ax.set_xlabel('Race')\n",
    "ax.set_ylabel('Count')\n",
    "plt.savefig('../plots/patients/race.png')\n",
    "plt.show()\n",
    "\n",
    "plt.figure()\n",
    "ax1 = df['GENDER'].value_counts().plot(kind= 'bar', title = 'Patients by Gender')\n",
    "ax1.set_xlabel('Gender')\n",
    "ax1.set_ylabel('Count')\n",
    "plt.savefig('../plots/patients/gender.png')\n",
    "plt.show()"
   ]
  },
  {
   "cell_type": "code",
   "execution_count": null,
   "id": "5f7b240d",
   "metadata": {},
   "outputs": [],
   "source": [
    "df[df['HEALTHCARE_EXPENSES'] > 0.3e7].value_counts()\n",
    "\n",
    "plt.figure()\n",
    "ax = df[(df['HEALTHCARE_EXPENSES']>=0.01e7) & (df['HEALTHCARE_EXPENSES'] <= 0.3e7)]\\\n",
    "    ['HEALTHCARE_EXPENSES'].plot(\n",
    "        kind='hist', bins=30, alpha = 0.5, label ='Expenses')\n",
    "\n",
    "ax1 = df[(df['HEALTHCARE_COVERAGE']>=0.01e7) & (df['HEALTHCARE_COVERAGE'] <= 0.3e7)]\\\n",
    "    ['HEALTHCARE_COVERAGE'].plot(\n",
    "        kind='hist', bins=30, alpha = 0.7, label = 'Coverage')\n",
    "\n",
    "plt.legend()\n",
    "plt.title('Healthcare Expenses vs Coverage for Patients')\n",
    "plt.xlabel('Amount')\n",
    "plt.ylabel('Frequency')\n",
    "plt.savefig('../plots/patients/expenses.png')\n",
    "plt.show()"
   ]
  },
  {
   "cell_type": "code",
   "execution_count": null,
   "id": "891f5ccb",
   "metadata": {},
   "outputs": [],
   "source": [
    "df['DEATHDATE'] = df['DEATHDATE'].fillna(pd.Timestamp.today())\n",
    "df['AGE'] = df['DEATHDATE'].dt.year -df['BIRTHDATE'].dt.year\n",
    "\n",
    "expenses = df[(df['HEALTHCARE_EXPENSES']>=0.01e7) & (df['HEALTHCARE_EXPENSES'] <= 0.3e7)]\\\n",
    "    ['HEALTHCARE_EXPENSES']\n",
    "\n",
    "plt.figure()\n",
    "sns.scatterplot(data=df, x= expenses, y = df['AGE'], hue=df['GENDER'], palette= 'pastel')\n",
    "plt.title('Healthcare Expenses by Age')\n",
    "plt.savefig('../plots/patients/expenses_age.png')\n",
    "plt.show()\n",
    "\n",
    "plt.figure()\n",
    "sns.histplot(data=df, x='AGE', hue = 'GENDER', palette='bright', element='bars', linewidth = 0.5)\n",
    "plt.title('Patient Count by Age and Gender')\n",
    "plt.savefig('../plots/patients/age_gender.png')\n",
    "plt.show()"
   ]
  }
 ],
 "metadata": {
  "kernelspec": {
   "display_name": "pinns",
   "language": "python",
   "name": "python3"
  },
  "language_info": {
   "codemirror_mode": {
    "name": "ipython",
    "version": 3
   },
   "file_extension": ".py",
   "mimetype": "text/x-python",
   "name": "python",
   "nbconvert_exporter": "python",
   "pygments_lexer": "ipython3",
   "version": "3.10.9"
  }
 },
 "nbformat": 4,
 "nbformat_minor": 5
}
