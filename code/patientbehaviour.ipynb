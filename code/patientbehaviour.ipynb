{
 "cells": [
  {
   "cell_type": "code",
   "execution_count": 1,
   "metadata": {},
   "outputs": [],
   "source": [
    "import pandas as pd\n",
    "import numpy as np\n",
    "import seaborn as sns\n",
    "import matplotlib.pyplot as plt"
   ]
  },
  {
   "cell_type": "code",
   "execution_count": 2,
   "metadata": {},
   "outputs": [],
   "source": [
    "alldata = pd.read_csv('../data/medications.csv')"
   ]
  },
  {
   "cell_type": "code",
   "execution_count": 3,
   "metadata": {},
   "outputs": [],
   "source": [
    "alldata['COVERAGE_RATIO'] = (alldata['PAYER_COVERAGE']/ alldata['BASE_COST'])\n",
    "\n",
    "# alldata.head(10)\n",
    "alldata['START'] = pd.to_datetime(alldata['START'])\n",
    "\n",
    "# print(len(alldata))"
   ]
  },
  {
   "cell_type": "code",
   "execution_count": null,
   "metadata": {},
   "outputs": [],
   "source": [
    "alldata.head()"
   ]
  },
  {
   "cell_type": "code",
   "execution_count": null,
   "metadata": {},
   "outputs": [],
   "source": [
    "totalcost = alldata['TOTALCOST']\n",
    "\n",
    "x_vals = np.linspace(min(totalcost), max(totalcost), 100)  # Generate x values\n",
    "\n",
    "\n",
    "insurancepayout = totalcost * alldata['COVERAGE_RATIO']\n",
    "plt.figure()\n",
    "plt.plot(totalcost, insurancepayout, '.', ms = 1.5)\n",
    "plt.plot(x_vals, x_vals, 'r--', label='y = x ')\n",
    "# plt.plot(x_vals, 0.8 * x_vals , 'y--', label='y = 0.8x')\n",
    "# plt.plot(x_vals, 0.6 * x_vals , 'k--', label='y = 0.6x')\n",
    "plt.plot(x_vals, 0.2 * x_vals , 'g--', label='y = 0.2x')\n",
    "plt.plot(x_vals, 0.01 * x_vals , 'p--', label='y = 0.01x')\n",
    "plt.title('Total Cost vs Insurance Payout Over Time')\n",
    "plt.ylabel('Total Cost Customer')\n",
    "plt.xlabel('Insurance')\n",
    "plt.yscale('log')\n",
    "plt.xscale('log')\n",
    "plt.legend()\n",
    "plt.show()"
   ]
  },
  {
   "cell_type": "code",
   "execution_count": null,
   "metadata": {},
   "outputs": [],
   "source": [
    "maxtotal = totalcost.max()\n",
    "maxinsurance = insurancepayout.max()\n",
    "print(maxtotal)\n",
    "print(maxinsurance)"
   ]
  },
  {
   "cell_type": "code",
   "execution_count": null,
   "metadata": {},
   "outputs": [],
   "source": [
    "alldata['YYMM'] = alldata['START'].dt.to_period(\"Y\")\n",
    "\n",
    "medcost_py = alldata.groupby(['YYMM', 'DESCRIPTION'])['BASE_COST'].sum().reset_index()\n",
    "print(medcost_py.head())\n",
    "medcost_py['YYMM'] = medcost_py['YYMM'].astype(str)\n",
    "medcost_py['YYMM'] = pd.to_datetime(medcost_py['YYMM'])\n",
    "plt.figure()\n",
    "print(len(medcost_py['BASE_COST']),len(medcost_py['BASE_COST'][1:]))\n",
    "basecost = medcost_py['BASE_COST'].values\n",
    "y = []\n",
    "for i in range(len(basecost)):\n",
    "    if i ==0: continue\n",
    "    y.append(((basecost[i]-basecost[i-1])/basecost[i]) * 100)\n",
    "\n",
    "plt.plot(medcost_py['YYMM'].iloc[1:], y)\n",
    "plt.title(\"Cost Trend of Medications Over Time\")\n",
    "plt.ylabel(\"Base Cost ($)\")\n",
    "plt.xlabel(\"Time Year\")\n",
    "# plt.yscale('log')\n",
    "plt.xticks(rotation=45)\n",
    "# plt.legend(title=\"Medication\", bbox_to_anchor=(1.05, 1), loc=\"upper left\")  # Legend outside\n",
    "plt.show()"
   ]
  },
  {
   "cell_type": "code",
   "execution_count": null,
   "metadata": {},
   "outputs": [],
   "source": [
    "#pre processing the data\n",
    "from datetime import  date\n",
    "patients = pd.read_csv('../data/patients.csv')\n",
    "patients['DEATHDATE'] = patients['DEATHDATE'].fillna(date.today())\n",
    "\n",
    "#calculate age of patients\n",
    "years = np.floor((pd.to_datetime(patients['DEATHDATE']) - pd.to_datetime(patients['BIRTHDATE'])).dt.days/365.25)\n",
    "\n",
    "patients['AGE'] = years\n",
    "\n"
   ]
  },
  {
   "cell_type": "code",
   "execution_count": null,
   "metadata": {},
   "outputs": [
    {
     "data": {
      "image/png": "[encoded data removed]",
      "text/plain": [
       "<Figure size 640x480 with 1 Axes>"
      ]
     },
     "metadata": {},
     "output_type": "display_data"
    }
   ],
   "source": [
    "#Age distribution of patients\n",
    "ages = patients['AGE'].value_counts()\n",
    "ages.plot(kind = 'bar')\n",
    "plt.xlabel('Age')\n",
    "plt.ylabel('Number of Patients')\n",
    "plt.title('Age Distribution of Patients')\n",
    "ticks = np.linspace(0, 100, num=6)  # Adjust num as needed\n",
    "plt.xticks(ticks=ticks, labels=[str(int(tick)) for tick in ticks], rotation = 360)\n",
    "plt.show()\n"
   ]
  }
 ],
 "metadata": {
  "kernelspec": {
   "display_name": "pinns",
   "language": "python",
   "name": "python3"
  },
  "language_info": {
   "codemirror_mode": {
    "name": "ipython",
    "version": 3
   },
   "file_extension": ".py",
   "mimetype": "text/x-python",
   "name": "python",
   "nbconvert_exporter": "python",
   "pygments_lexer": "ipython3",
   "version": "3.10.9"
  }
 },
 "nbformat": 4,
 "nbformat_minor": 2
}
